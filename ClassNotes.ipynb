{
 "cells": [
  {
   "cell_type": "markdown",
   "id": "6c1bc98b",
   "metadata": {},
   "source": [
    "# IT Workshop Basics Sheet\n",
    "\n",
    "This sheet will be regularly updated and available at: https://github.com/siddhartha18101/python_spring_21"
   ]
  },
  {
   "cell_type": "markdown",
   "id": "7344cd2d",
   "metadata": {},
   "source": [
    "# How to run code in jupyter nb:\n",
    "\n",
    "1. Click \"+\" to add a new cell\n",
    "2. Write some Python code\n",
    "3. Click run and ensure that \"Code\" is selected in dropdown"
   ]
  },
  {
   "cell_type": "markdown",
   "id": "bb0d239a",
   "metadata": {},
   "source": [
    "# How to write plain text in jupyter nb:\n",
    "\n",
    "1. Click \"+\" to add a new cell\n",
    "2. Write something in plain english\n",
    "3. Click the dropdown where it will show \"Code\" by default and change it to \"Markdown\"\n",
    "4. Click run"
   ]
  },
  {
   "cell_type": "markdown",
   "id": "92d834b4",
   "metadata": {},
   "source": [
    "# Basics"
   ]
  },
  {
   "cell_type": "code",
   "execution_count": 5,
   "id": "eb011d51",
   "metadata": {
    "scrolled": true
   },
   "outputs": [
    {
     "name": "stdout",
     "output_type": "stream",
     "text": [
      "Hello World\n"
     ]
    }
   ],
   "source": [
    "print(\"Hello World\")"
   ]
  },
  {
   "cell_type": "markdown",
   "id": "48fc7c1d",
   "metadata": {},
   "source": [
    "# Working with numbers:\n",
    "\n",
    "1. int\n",
    "2. float"
   ]
  },
  {
   "cell_type": "markdown",
   "id": "52f9062f",
   "metadata": {},
   "source": [
    "# Working with Boolean values:"
   ]
  },
  {
   "cell_type": "code",
   "execution_count": null,
   "id": "136aad4a",
   "metadata": {},
   "outputs": [],
   "source": []
  },
  {
   "cell_type": "markdown",
   "id": "5d500030",
   "metadata": {},
   "source": [
    "# Working with String:\n",
    "\n",
    "1. String length\n",
    "2. String slice\n",
    "3. String to upper case\n",
    "4. Last element of a string\n",
    "5. String concat"
   ]
  },
  {
   "cell_type": "code",
   "execution_count": null,
   "id": "74c084e4",
   "metadata": {},
   "outputs": [],
   "source": []
  },
  {
   "cell_type": "markdown",
   "id": "b5d94d30",
   "metadata": {},
   "source": [
    "# Type conversions"
   ]
  },
  {
   "cell_type": "code",
   "execution_count": null,
   "id": "6b23efb9",
   "metadata": {},
   "outputs": [],
   "source": []
  },
  {
   "cell_type": "markdown",
   "id": "55347b64",
   "metadata": {},
   "source": [
    "# Getting User input"
   ]
  },
  {
   "cell_type": "code",
   "execution_count": null,
   "id": "07cf0771",
   "metadata": {},
   "outputs": [],
   "source": []
  },
  {
   "cell_type": "markdown",
   "id": "3f5b9adf",
   "metadata": {},
   "source": [
    "# Making a Calculator to do summation"
   ]
  },
  {
   "cell_type": "code",
   "execution_count": null,
   "id": "97d4d5b1",
   "metadata": {},
   "outputs": [],
   "source": []
  }
 ],
 "metadata": {
  "kernelspec": {
   "display_name": "Python 3",
   "language": "python",
   "name": "python3"
  },
  "language_info": {
   "codemirror_mode": {
    "name": "ipython",
    "version": 3
   },
   "file_extension": ".py",
   "mimetype": "text/x-python",
   "name": "python",
   "nbconvert_exporter": "python",
   "pygments_lexer": "ipython3",
   "version": "3.9.1"
  }
 },
 "nbformat": 4,
 "nbformat_minor": 5
}
